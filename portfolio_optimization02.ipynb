{
 "cells": [
  {
   "cell_type": "markdown",
   "metadata": {},
   "source": [
    "El presente artículo es un tutorial que explica cómo optimizar los pesos de activos financieros dentro de un portafolio de inversión utilizando python.  A pesar del título, en este artículo se presentan también cosas como: obtener datos de mercado desde internet, manipulación de dataframes (tablas de datos), operaciones aritméticas con fechas, multiplicación de matrices, simulaciones de Montecarlo, entre otras.\n",
    "\n",
    "Cabe mencionar que para entender este documento en su totalidad,  son necesarios conocimientos previos de finanzas, álgebra lineal y programación en python. Sin embargo, he realizado  esfuerzo para hacer entendible este artículo a la mayor cantidad de personas, incluso a quienes pudieran no contar con estos conocimientos previos.\n",
    "\n",
    "Antes de empezar es necesario explicar algunos temas de forma. El código que se presenta está redactado en inglés, esto se debe ya que al estar los lenguajes de programación construidos en inglés, caracteres como la \"ñ\", vocales con tildes o con diéresis (ü), hacen que el código pueda eventualmente fallar, por lo que para evitar estos posibles fallos hay dos alternativas: escribir en español evitando estos caracteres (y en consecuencia cometer faltas de ortografía), o escribir el código en inglés. Esta última es la solución que escogí porque es también una buena práctica a la hora de programar.\n",
    "\n",
    "Una vez mencionado lo anterior podemos empezar con el tutorial. Primero hay que importar las librerías necesarias, si queremos importar una librería completa, utilizamos la palabra reservada de python \"import\", seguida del nombre de la librería, además podemos asignarle a la librería un diminutivo para que el código sea más fácil de escribir, esto se hace con la palabra reservada \"as\" y continuada por el diminutivo correspondiente. Por último, si queremos un modulo o función específico de una librería, entonces utilizamos la palabra reservada \"from\" seguida del nombre de la librería para luego con \"import\" llamar al módulo específico.\n",
    "\n",
    "Tomando en cuenta lo anterior, las librerías que utilizaremos son: Pandas, Numpy, Matplotlib, Seaborn, Pandas Data Reader, Datetime,  Dateutil y Scipy. La forma de importarlas será la siguiente:"
   ]
  },
  {
   "cell_type": "code",
   "execution_count": 64,
   "metadata": {},
   "outputs": [],
   "source": [
    "# Libraries\n",
    "import pandas as pd # to manipulate dataframes\n",
    "import numpy as np # to resolve lineal algebra problems\n",
    "import datetime as dt # to manage datetime data\n",
    "import matplotlib.pyplot as plt # to plot plot our results\n",
    "import seaborn as sns # to plot plot our results\n",
    "from pandas_datareader import DataReader as wb # to import market data from internet\n",
    "from dateutil.relativedelta import relativedelta # to manage datetime data\n",
    "from scipy.optimize import minimize # to resolve optimization problems"
   ]
  },
  {
   "cell_type": "markdown",
   "metadata": {},
   "source": [
    "# Obtener datos desde internet"
   ]
  },
  {
   "cell_type": "markdown",
   "metadata": {},
   "source": [
    "En este ejercicio utilizaremos un portafolio compuesto por las acciones de *Apple, Tesla, Amazon, Facebook y Microsoft*, cuyos tickers son respectivamente: **AAPL, TSLA, AMZN, FB y MSFT**. Para obtener los precios de cierre diarios de estas acciones utilizaremos la función \"DataReader\" importada como \"wb\" de la librería \"pandas_datareader\".\n",
    "\n",
    "El codigo para importar los precios es el siguiente:"
   ]
  },
  {
   "cell_type": "code",
   "execution_count": 65,
   "metadata": {},
   "outputs": [],
   "source": [
    "# Get market data\n",
    "start = dt.datetime.now() - relativedelta(years=5)\n",
    "end = dt.datetime.now()\n",
    "tickers = ['AAPL', 'TSLA', 'AMZN', 'FB', 'MSFT']\n",
    "df = wb(tickers,'yahoo',start,end)['Close']\n"
   ]
  },
  {
   "cell_type": "markdown",
   "metadata": {},
   "source": [
    "La función \"DataReader\" recibe como inputs el nombre de la información solicitada, lo que en nuestro caso es la variable *tickers* la cual es una lista que contiene los tickers de las de las acciones de nuestro portafolio. Posteriormente recibe la fuente de donde busca la información, nosostros queremos sacar la información desde **Yahoo Finance**, por que le pasamos a la función el dato **'yahoo'** como *string*. Por último, la función nos pide una fecha de inicio y una fecha de termino, las cuales pueden ser datos de tipo *string* o *datetime*, estas fechas son la ventana de tiempo sobre la cual queremos los datos de mercado de la acciones.\n",
    "\n",
    "Para la fecha de inicio creamos la variable **start**, la cual es de tipo *datetime* y corresponde al día de hoy menos 5 años exactos. Para esto usamos la funcion \"datetime.now()\" de la librería \"datetime\" importada como \"dt\", esta función nos entrega el dia en que nos encontramos cuando ejecutamos el codigo. Al día de hoy le restamos 5 años exactos con la fucnión \"relativedelta\" de la librería \"dateutil\". Para la variable **end** solo utilizamos la función \"datetime.now()'.\n",
    "\n",
    "Lo anterior es interesante porque tenemos un código flexible que simpre entrega los últimos 5 años de datos hacia atrás desde la fecha en que quiero hacer el análisis. Como último input, definimos la variable *tickers*, la cual es una lista que contine cada ticker de las acciones de nuestro portafoliio, donde cada dato es de tipo *string*.\n",
    "\n",
    "Podemos realizar un *print* del dataframe resultante para ver como luce."
   ]
  },
  {
   "cell_type": "code",
   "execution_count": 66,
   "metadata": {},
   "outputs": [
    {
     "name": "stdout",
     "output_type": "stream",
     "text": [
      "Symbols          AAPL       TSLA        AMZN          FB       MSFT\n",
      "Date                                                               \n",
      "2016-10-14  29.407499  39.301998  822.960022  127.879997  57.419998\n",
      "2016-10-17  29.387501  38.792000  812.950012  127.540001  57.220001\n",
      "2016-10-18  29.367500  39.820000  817.650024  128.570007  57.660000\n",
      "2016-10-19  29.280001  40.712002  817.690002  130.110001  57.529999\n",
      "2016-10-20  29.264999  39.820000  810.320007  130.000000  57.250000\n",
      "2016-10-21  29.150000  40.018002  818.989990  132.070007  59.660000\n",
      "2016-10-24  29.412500  40.551998  838.090027  133.279999  61.000000\n"
     ]
    }
   ],
   "source": [
    "print(df.head(7))"
   ]
  },
  {
   "cell_type": "markdown",
   "metadata": {},
   "source": [
    "Como se puede apreciar la función nos devuelve un *dataframe* donde cada columna es el precio de cierre diario de cada acción y el índice son las fechas de cada día. Cabe destacar que la función por defecto nos devuelve más atributos de las acciones como: *volumen transado, mayor precio diario, menor precio diario y precio de cierre ajustado por dividendos*. Sin embargo, a nosotros nos interesa solo el precio de cierre, por lo que después de escribir la función agregamos **\"['Close']\"** para indicar que, de todos los atributos, solo nos retorne el precio de cierre. Si quisieramos trabajar con el precio ajustado por dividendos, entonces debemos agregrar **\"['Adj Close']\"**."
   ]
  },
  {
   "cell_type": "markdown",
   "metadata": {},
   "source": [
    "# Retornos discretos y retornos logarítmicos"
   ]
  },
  {
   "cell_type": "markdown",
   "metadata": {},
   "source": [
    "Ya tenemos nuestro *dataframe* con cinco años de precios diarios para las acciones de nuestro portafolio, pero para el análisis que vamos a realizar necesitamos los retornos diarios de las acciones. El retorno diario no es más que la variación porcentual entre el precio de cada día versus el precio del día anterior, si por ejemplo, el precio de hoy fuera 120 y el de ayer fuera 100, entonces el retorno diario sería 20%. El calculo sería simplemente (120/100) - 1.\n",
    "\n",
    "Los retornos calculados con la forma descrita arriba se conocen como retornos discretos; sin embargo,  hay otros retornos conocidos como retornos continuos, los cuales podemos obtener con la primera diferencia logarítmica. Si utilizamos los mismos precios del ejemplo anterior, el retorno continuo seria: ln(120/100) = 18.23% app.\n",
    "\n",
    "Hay situaciones donde es mejor utilizar retornos logaritmos ,como cuando se hacen regresiones lineales entre series de tiempo (ej: cálculo del beta de mercado de una acción). Para este modelo en concreto, la utilización de un retorno por sobre otro no genera mayores beneficios, por lo que explicaré como calcular ambos retornos pero realizaré los cálculos posteriores con los retornos logarítmicos.\n",
    "\n",
    "Para los retornos discretos tenemos que dividir cada fila del *dataframe* con la fila anterior y restarle 1, el resultado podemos guardarlo en una variable llamada \"ret\". Lo anterior se hace así:"
   ]
  },
  {
   "cell_type": "code",
   "execution_count": 67,
   "metadata": {},
   "outputs": [
    {
     "name": "stdout",
     "output_type": "stream",
     "text": [
      "Symbols         AAPL      TSLA      AMZN        FB      MSFT\n",
      "Date                                                        \n",
      "2016-10-14       NaN       NaN       NaN       NaN       NaN\n",
      "2016-10-17 -0.000680 -0.012976 -0.012163 -0.002659 -0.003483\n",
      "2016-10-18 -0.000681  0.026500  0.005781  0.008076  0.007690\n",
      "2016-10-19 -0.002979  0.022401  0.000049  0.011978 -0.002255\n",
      "2016-10-20 -0.000512 -0.021910 -0.009013 -0.000845 -0.004867\n",
      "2016-10-21 -0.003930  0.004972  0.010699  0.015923  0.042096\n",
      "2016-10-24  0.009005  0.013344  0.023321  0.009162  0.022461\n"
     ]
    }
   ],
   "source": [
    "ret = df/df.shift(1) - 1\n",
    "print(ret.head(7))"
   ]
  },
  {
   "cell_type": "markdown",
   "metadata": {},
   "source": [
    "Se puede apreciar que el código es bastante parecido a lo hecho con el ejemplo de los precios 120 y 100, en este caso lo que hacemos con el método \"shift(1)\" es dividir cada fila del dataframe con la fila inmediatamente anterior, luego restamos uno. Con esto dejamos de tener precios y pasamos a tener números decimales que representan las variaciones diarias de los precios.\n",
    "\n",
    "Es necesario hacer especial atención en la primera fila donde todos los valores son de tipo \"NaN\", esto es un valor nulo, y la razón de que la primera fila tenga valores nulos es porque al momento de dividir cada fila por la fila anterior, la primera fila no tuvo una fila anterior con la que dividirse, por lo que el resultado de esa división fue nulo. Para eliminar esa fila se puede hacer lo siguiente:"
   ]
  },
  {
   "cell_type": "code",
   "execution_count": 68,
   "metadata": {},
   "outputs": [
    {
     "name": "stdout",
     "output_type": "stream",
     "text": [
      "Symbols         AAPL      TSLA      AMZN        FB      MSFT\n",
      "Date                                                        \n",
      "2016-10-17 -0.000680 -0.012976 -0.012163 -0.002659 -0.003483\n",
      "2016-10-18 -0.000681  0.026500  0.005781  0.008076  0.007690\n",
      "2016-10-19 -0.002979  0.022401  0.000049  0.011978 -0.002255\n",
      "2016-10-20 -0.000512 -0.021910 -0.009013 -0.000845 -0.004867\n",
      "2016-10-21 -0.003930  0.004972  0.010699  0.015923  0.042096\n",
      "2016-10-24  0.009005  0.013344  0.023321  0.009162  0.022461\n",
      "2016-10-25  0.005100 -0.002071 -0.003472 -0.007428 -0.000164\n"
     ]
    }
   ],
   "source": [
    "ret = df/df.shift(1) - 1\n",
    "ret.dropna(inplace=True)\n",
    "print(ret.head(7))"
   ]
  },
  {
   "cell_type": "markdown",
   "metadata": {},
   "source": [
    "La función \"dropna()\", como su nombre permite intuir, elimina del dataframe todas las filas que continen datos de tipo NaN.\n",
    "\n",
    "Para obtener los retornos continuos (los cuales se utilizarán en lo que sigue del tutorial), también se utiliza la función \"shift(1)\" para dividir cada fila con la fila anterior, además, se utiliza la función \"log\" de la librería Numpy, importada al inicio como \"np\", esta función nos permite calcular el logaritmo natural de lo coloquemos dentro. Así, los retornos logarítmicos se obtienen como:"
   ]
  },
  {
   "cell_type": "code",
   "execution_count": 69,
   "metadata": {},
   "outputs": [
    {
     "name": "stdout",
     "output_type": "stream",
     "text": [
      "Symbols         AAPL      TSLA      AMZN        FB      MSFT\n",
      "Date                                                        \n",
      "2016-10-17 -0.000680 -0.013061 -0.012238 -0.002662 -0.003489\n",
      "2016-10-18 -0.000681  0.026155  0.005765  0.008044  0.007660\n",
      "2016-10-19 -0.002984  0.022154  0.000049  0.011907 -0.002257\n",
      "2016-10-20 -0.000512 -0.022154 -0.009054 -0.000846 -0.004879\n",
      "2016-10-21 -0.003937  0.004960  0.010643  0.015798  0.041234\n",
      "2016-10-24  0.008965  0.013256  0.023054  0.009120  0.022212\n",
      "2016-10-25  0.005087 -0.002074 -0.003478 -0.007456 -0.000164\n"
     ]
    }
   ],
   "source": [
    "log_ret = np.log(df/df.shift(1)).dropna()\n",
    "print(log_ret.head(7))"
   ]
  },
  {
   "cell_type": "markdown",
   "metadata": {},
   "source": [
    "# Teoría del portafolio y álgebra lineal"
   ]
  },
  {
   "cell_type": "markdown",
   "metadata": {},
   "source": [
    "## Criterios y supuestos sobre portafolios de inversión\n",
    "\n",
    "Cuando invertimos en el mercado financiero, podemos invertir en un solo activo (por ejemplo comprar solo la acción de Apple) o invertir en varias activos (como es nuestro caso en que invertimos en las acciones de varias empresas tecnológicas). A lo anterior se le conoce como portafolio de inversión, y es básicamente la cantidad de activos financieros en la que invertimos un monto determinado de dinero. Lo importante a tener en cuenta es que el dinero disponible para invertir en el portafolio es independiente de la cantidad de activos que haya en el portafolio, por lo tanto, podemos afirmar que el portafolio siempre tiene el 100% de la inversión.\n",
    "\n",
    "Si tenemos un portafolio compuesto por una única empresa, entonces el peso de esa acción en el portafolio es del 100%, ya que todo el dinero disponible para invertir en el portafolio está en esa única acción. Sin embargo, si el portafolio está compuesto por dos acciones, estas no necesariamente tendrán un peso de 50% cada una dentro del portafolio, ya que en la primera acción se podría invertir más que en la segunda, y viceversa. Por lo tanto, los pesos individuales de cada activo dentro de un portafolio dependen exclusivamente del criterio del inversionista de invertir más en ciertos activos que en otros.\n",
    "\n",
    "Pese a que el criterio de inversión depende solo del inversionista, podemos afirmar que la suma de los pesos individuales debe sumar 1 (100%). Además, vamos a suponer que cada peso individual no puede ser un número negativo (menor a cero), a pesar de que esto pueda parecer intuitivo, en la práctica es posible que el peso de un activo sea negativo, esto ocurre si se toma una \"posición corta\" en el activo en particular. Sin entrar en mucho detalle, podemos entender una posición corta como la venta de un activo el cual esperamos re comprar barato en el futuro. Por lo tanto, sabemos que para cada activo de nuestro portafolio tendremos un determinado peso, donde se cumplen dos restricciones: la suma de los pesos individuales suman 1 y cada peso individual debe ser mayor a cero."
   ]
  },
  {
   "cell_type": "markdown",
   "metadata": {},
   "source": [
    "## Multiplicación de matrices\n",
    "\n",
    "Ya tenemos las restricciones del portafolio ahora debemos saber cómo calcular la rentabilidad esperada anual y la volatilidad anual. Para hacer esto debemos entender cada dato como un vector o como una matriz, específicamente necesitamos tres datos en concreto: vector de pesos, vector de retornos esperados y la matriz de varianza - covarianza.\n",
    "\n",
    "El vector de pesos será de tamaño Nx1, donde \"N\" es la cantidad de filas y \"1\" es la cantidad de columnas. La cantidad de filas será igual a cantidad de activos dentro del portafolio. Cabe destacar que este vector debe cumplir con las restricciones antes mencionadas para los pesos de un portafolio.\n",
    "\n",
    "Llamemos \"W\" al vector de pesos de un portafolio compuesto por 4 acciones cuyos retornos son aleatorios, este vector lo podemos crear con la función \"random.rand()\", la cual nos devuelve un número entre cero y uno, por lo que cumple con la segunda restricción. Además, podemos forzar la restricción de que la suma de los pesos sea uno, dividiendo cada peso por la suma total de los pesos. Por último con el atributo \"shape\" de los array de numpy, podemos ver el tamaño del vector creado."
   ]
  },
  {
   "cell_type": "code",
   "execution_count": 70,
   "metadata": {},
   "outputs": [
    {
     "name": "stdout",
     "output_type": "stream",
     "text": [
      "Vector of weights\n",
      "[0.26666835 0.41277841 0.06846584 0.2520874 ]\n",
      "----\n",
      "Sum of individuals weights\n",
      "1.0\n",
      "----\n",
      "Vector shape\n",
      "(4,)\n"
     ]
    }
   ],
   "source": [
    "W = np.random.rand(4)\n",
    "W= W/W.sum()\n",
    "print('Vector of weights')\n",
    "print(W)\n",
    "print('----')\n",
    "print('Sum of individuals weights')\n",
    "print(W.sum())\n",
    "print('----')\n",
    "print('Vector shape')\n",
    "print(W.shape)"
   ]
  },
  {
   "cell_type": "markdown",
   "metadata": {},
   "source": [
    "La rentabilidad esperada también será un vector de tamaño Nx1 donde cada dato será el promedio de las rentabilidades diarias del periodo de tiempo que definamos, en nuestro caso son los cinco años de datos diarios que descargamos desde Yahoo. Este vector no tiene las restricciones del vector de pesos.\n",
    "\n",
    "Si seguimos con ejemplo anterior llamaremos \"Ret\" al vector de retorno. Podemos generar un vector de retornos aletaros con la formula \"random.standard_normal()\", la cual nos devuelve números de una distribución normal estandar. Como este vector no tiene las restricciones del vector de pesos entonces puede tomar valores de decimales positivos o negativos."
   ]
  },
  {
   "cell_type": "code",
   "execution_count": 71,
   "metadata": {},
   "outputs": [
    {
     "name": "stdout",
     "output_type": "stream",
     "text": [
      "Vector of expected returns\n",
      "[ 1.73774355  1.30493828 -0.00880432  0.85650984]\n",
      "----\n",
      "Sum of indivial retuns\n",
      "3.890387356681964\n",
      "----\n",
      "Shape of vector\n",
      "(4,)\n"
     ]
    }
   ],
   "source": [
    "Ret = np.random.standard_normal(4)\n",
    "print('Vector of expected returns')\n",
    "print(Ret)\n",
    "print('----')\n",
    "print('Sum of indivial retuns')\n",
    "print(Ret.sum())\n",
    "print('----')\n",
    "print('Shape of vector')\n",
    "print(Ret.shape)"
   ]
  },
  {
   "cell_type": "markdown",
   "metadata": {},
   "source": [
    "Tambien podemos obtener el vector de retornos del dataframe de retornos que calulalos anteriormente, para esto solo hay que calcular el retorno promedio de cada acción, esto se puede hacer con la funcion \"mean()\" de los dataframe de pandas. Ademmás, con el método \"values\" podemos convertir el dataframe resultante en un array de numpy. Esto sería así:"
   ]
  },
  {
   "cell_type": "code",
   "execution_count": 72,
   "metadata": {},
   "outputs": [
    {
     "name": "stdout",
     "output_type": "stream",
     "text": [
      "Vector of expected returns\n",
      "[0.00126003 0.00241431 0.00110503 0.0007495  0.00131792]\n",
      "----\n",
      "Sum of indivial retuns\n",
      "0.006846794545927697\n",
      "----\n",
      "Shape of vector\n",
      "(5,)\n",
      "----\n",
      "Data type\n",
      "<class 'numpy.ndarray'>\n"
     ]
    }
   ],
   "source": [
    "Ret_2 = log_ret.mean().values\n",
    "print('Vector of expected returns')\n",
    "print(Ret_2)\n",
    "print('----')\n",
    "print('Sum of indivial retuns')\n",
    "print(Ret_2.sum())\n",
    "print('----')\n",
    "print('Shape of vector')\n",
    "print(Ret_2.shape)\n",
    "print('----')\n",
    "print('Data type')\n",
    "print(type(Ret_2))"
   ]
  },
  {
   "cell_type": "markdown",
   "metadata": {},
   "source": [
    "Por último, la matriz de varianza - covarianza será de tamaño NxN, es decir, hay \"N\" filas y \"N\" columnas y donde cada dato de la matriz será la covarianza de un activo específico con respecto, dentro del periodo de tiempo definido (cinco años en nuestro caso). Para calcular la matriz de varianza - covarianza de nuestro *dataframe* de retornos solo basta con usar la función \"cov()\" de los pandas dataframe. Esto sería así"
   ]
  },
  {
   "cell_type": "code",
   "execution_count": 73,
   "metadata": {},
   "outputs": [
    {
     "name": "stdout",
     "output_type": "stream",
     "text": [
      "Symbols      AAPL      TSLA      AMZN        FB      MSFT\n",
      "Symbols                                                  \n",
      "AAPL     0.000363  0.000297  0.000225  0.000241  0.000244\n",
      "TSLA     0.000297  0.001380  0.000264  0.000259  0.000276\n",
      "AMZN     0.000225  0.000264  0.000343  0.000239  0.000227\n",
      "FB       0.000241  0.000259  0.000239  0.000436  0.000229\n",
      "MSFT     0.000244  0.000276  0.000227  0.000229  0.000298\n",
      "----\n",
      "(5, 5)\n"
     ]
    }
   ],
   "source": [
    "Cov = log_ret.cov()\n",
    "print(Cov)\n",
    "print('----')\n",
    "print(Cov.shape)"
   ]
  },
  {
   "cell_type": "markdown",
   "metadata": {},
   "source": [
    "Como se puede apreciar, se hizo especial hincapié en los tamaños de los vectores y matrices, esto es porque para poder realizar operaciones algebráicas entre matrices y vectores, el tamaños es relevante. A partir de ahora solo se hablará de matrices pero todo es equivalente a vectores, recordar que un vector no es mas que una matriz de tamaño Nx1.\n",
    "\n",
    "Para este tutorial solo nos va a interesar la mulplicación de matrices (producto punto para los más puristas) y transponer matrices. Esta última (trasponer) no es más que intercambiar filas por columnas, es decir, si el tamaño de de la matrix es NxM (donde N son filas y M columnas), entonces la matriz transpuesta será de tamaño MxN.\n",
    "\n",
    "Sobre la multiplicación de matrices el orden de los factores es importante, el criterio es bastante simple, las columnas de la matriz de la izquierda tienen que ser iguales a las filas de las columnas de la derecha. Por lo tanto, si queremos multiplicar el vector de retornos con el vector de pesos, no sería posible ya que amobos vectores son de Nx1, por lo que a la hora de las columnas del que se multiplique por las izquierda no coinciden con las filas de la matrix que se multiplique por la derecha, a menos que uno de los dos se transponga.\n",
    "\n",
    "Para multiplicar matrices podemos usar la función \"dot\" de la librería numpy. A continuación se muestra un ejemplo de como multiplicar matrices."
   ]
  },
  {
   "cell_type": "code",
   "execution_count": 74,
   "metadata": {},
   "outputs": [
    {
     "name": "stdout",
     "output_type": "stream",
     "text": [
      "Shape of matriz1: (3, 2)\n",
      "Shape of matriz2: (3, 2)\n",
      "---------------------------------\n",
      "Incorrect matrix multiplication\n",
      "matriz1 * matriz 2 = (3, 2) * (3, 2)\n",
      "---------------------------------\n",
      "Correct matrix multiplication\n",
      "matriz1.T * matriz2 = (2, 3) * (3, 2)\n",
      "\n",
      "Multiplication Results\n",
      "[[-0.23839295  1.51865885]\n",
      " [ 0.65881857 -3.81871833]]\n",
      "\n",
      "Result shape (2, 2)\n"
     ]
    }
   ],
   "source": [
    "matriz_1 = np.random.standard_normal(size=(3,2))\n",
    "matriz_2 = np.random.standard_normal(size=(3,2))\n",
    "result = np.dot(matriz_1.T,matriz_2)\n",
    "print('Shape of matriz1: ' + str(matriz_1.shape))\n",
    "print('Shape of matriz2: ' + str(matriz_2.shape))\n",
    "print('---------------------------------')\n",
    "print('Incorrect matrix multiplication')\n",
    "print('matriz1 * matriz 2 = ' + str(matriz_1.shape) + ' * ' + str(matriz_2.shape))\n",
    "print('---------------------------------')\n",
    "print('Correct matrix multiplication')\n",
    "print('matriz1.T * matriz2 = ' + str(matriz_1.T.shape) + ' * ' + str(matriz_2.shape))\n",
    "print('\\nMultiplication Results')\n",
    "print(result)\n",
    "print('\\nResult shape ' + str(result.shape))"
   ]
  },
  {
   "cell_type": "markdown",
   "metadata": {},
   "source": [
    "## Retorno esperado y volatilidad\n",
    "\n",
    "Ahora que conocemos el vector de pesos, vector de retornos, matriz de varianza - covarianza y entendemos las restricciones para multplicar matrices, podemos ver las formulas para el retorno esperado del portafolio y la volatilidad del portafolio.\n",
    "\n",
    "El retorno esperado de un portafolio no es más que la suma de los retornos individuales de cada acción del portafolio, ponderados por su peso en este. Para poder hacer este cáculo tenemos que multiplicar el vector de pesos traspuestos por el vector de retornos esperados. Hay que recordar que el vector de retornos esperados lo podemos estimar como el promedio de los retornos individuales de cada activo en un periodo de tiempo determinado.\n",
    "\n",
    "La volatilidad de un portafolio se suele medir como la desviación estandar de los retornos esperados; sin embargo, esta no se puede calcular como la suma ponderada de las desviaciones individuales debido a la correlación estadística que hay entre las acciones del portafolio. Para calcular la desviación estandar primero de debe estimar la varianza del portafolio, para posteriormente obetener la desviación estandar como la raiz cuadrada de la varianza.\n",
    "\n",
    "Si mantenemos la notación antes descrita y llamamos \"W\" al vector de pesos, \"Ret\" al vector de retornos esperados y \"Cov\" a la matrix de varianza - covarianza, además, consideramos a \"W.T\" como la matriz transpuesta de pesos, entonces las formulas serían las siguiente:\n",
    "\n",
    "\n",
    "-    *Retorno esperado = W.T(1xN) * Ret(Nx1)*\n",
    "\n",
    "-    *Varianza = W.T(1xN) * Cov(NxN) * W(Nx1)*\n",
    "\n",
    "-    *Desviación estandar (volatilidad) = √varianza*\n",
    "\n",
    "\n",
    "En nuestro caso particular vamos a trabajar con datos diarios, por lo que para obtener el retorno esperado anual y la volatilidad anual hay que hacer el siguiente ajuste a las formulas:\n",
    "\n",
    "-    *Retorno esperado anual = W.T(1xN) * Ret(Nx1) * 252*\n",
    "\n",
    "-    *Varianza = W.T(1xN) * Cov(NxN) * W(Nx1)*\n",
    "\n",
    "-    *Desviación estandar (volatilidad) anual = √varianza * √252*\n",
    "\n",
    "¿Por qué 252? La razón es bastante simple, aproximadamente hay 252 días hábiles en un año, y como los mercados financieros solo funcionan los días hábiles, entonces sería incorrecto multiplicar por 365. También uno se podría preguntar por qué el retorno se multiplica por 252 pero la volatilidad se multiplica por la raíz cuadrada de 252. La explicación de esto es un poco más compleja, pero de forma resumida lo que sucede es que nosotros estimamos los retornos con la media, la cual crece linealmente en el tiempo, por lo que si quisiéramos la media mensual bastaría con multiplicar la media diaria por 30 (obviamente consideramos todos los días del mes y no solo los hábiles). Por otro lado, la volatilidad la estimamos con la desviación estándar, la cual crece como la raíz cuadrada del tiempo, por eso se multiplica por la raíz cuadrada de 252."
   ]
  },
  {
   "cell_type": "markdown",
   "metadata": {},
   "source": [
    "## Ratio de Sharpe\n",
    "\n",
    "Una vez que tenemos el retorno esperado anual y la volatilidad anual, podemos calcular el ratio de sharpe, el cual se calcula como:\n",
    "\n",
    "-   *Sharpe* = (Retorno esperado anual - Tasa libre de riesgo anual) / Volatilidad anual\n",
    "\n",
    "Este parámetro nos indica la relación riesgo versus retorno por sobre la tasa libre de riesgo de un portafolio, este criterio es el que utilizaremos posteriormente para optimizar el portafolio. Sobre la tasa libre riesgo, la podemos entender como un activo financiero que ofrece una rentabilidad sin riesgo alguno, sin emargo, en la practica no hay un consenso claro sobre cuál es el activo libre de riesgo de una economía (o si siquiera existe realmente), a pesar de esto} se suele estimar con la tasas de interés de instrumentos financieros con un riesgo de crédito (riesgo de no pago) muy bajo, como lo pueden ser bonos de gobierno o de bancos centrales.\n",
    "\n",
    "Básicamente el problema que queremos resolver es cuáles son los pesos óptimos de los activos del portafolio, para esto buscaremos un vector de pesos que nos permita obtener el máximo ratio de sharpe."
   ]
  },
  {
   "cell_type": "markdown",
   "metadata": {},
   "source": [
    "# Optimización de portafolio"
   ]
  },
  {
   "cell_type": "markdown",
   "metadata": {},
   "source": [
    "## Crear funciones\n",
    "\n",
    "El primer paso para poder encontrar el portafolio óptimo que maximice el ratio de sharpe es crear las siguientes funciones:"
   ]
  },
  {
   "cell_type": "code",
   "execution_count": 75,
   "metadata": {},
   "outputs": [],
   "source": [
    "# Functions\n",
    "def financials(weights=[]):\n",
    "    mean = log_ret.mean() # vector of expected returns\n",
    "    cov = log_ret.cov() # covariance matrix\n",
    "    w = np.array(weights) # vector of weights\n",
    "    ret = np.dot(mean.T,w) * 252 # annual expected return of portfolio\n",
    "    std =  np.sqrt(np.dot(w.T,np.dot(cov * 252, w))) # annual expected volatility of portfolio returns\n",
    "    return np.array([ret,std,ret/std]) #output\n",
    "\n",
    "def max_sharpe(weights=[]):\n",
    "    return -financials(weights)[2]"
   ]
  },
  {
   "cell_type": "markdown",
   "metadata": {},
   "source": [
    "Ambas funciones reciblen como input una variable llamada *weights* la cual es una lista con los pesos idividuales para cada acción. No importta qué ponderación haya para las acciones, lo único relevante es que estos cumplan las dos restricciones vistas en el punto anteriormente, es decir, que la suma de los pesos sea 1 y que cada peso indivudual sea mayor a cero.\n",
    "\n",
    "La primera función llamada \"financials\" hace todo lo visto en el apartado anterior, crea el vector de retornos esperados como el promedio de los retornos individuales de cada acción, calcula la matriz de varianza - covarianza, utiliza el input *weights* para crear el vector de pesos y utiliza estas tres variables para calcular el retorno esperado anual del portafolio y la desviación estandar (volatilidad) anual del retorno del portaolio. Finalmente, nos retorna un vector donde el primer dato es retornno esperado anual, el segundo dato es la desviación estandar anual y el tercer dato es la divición del primero sobre el segundo, es decir, el ratio de sharpe.\n",
    "\n",
    "La segunda función llamada \"max_sharpe\" utiliza a la primera (financials), y recupera solo el tercer elemento del retorno de la función 1, es decir, recupera solo el ratio de sharpe negativo (lo multiplica por -1). Hay que recordar que en las estructura de datos los indices parten desde cero, por lo el primer dato es el cero, en el caso de la primera función, esta retorna un vector con tres datos, siendo el último el ratio de sharpe, como el primer dato tiene indice cero, el segundo dato tendrá indice 1 y el tercer dato tendrá indice 2."
   ]
  },
  {
   "cell_type": "markdown",
   "metadata": {},
   "source": [
    "## Optimización\n",
    "\n",
    "Con la funciones anteriores creadas ya podemos optimizar el portafolio, para este proceso utilizaremos la función \"minimize\" que importamos al inicio del modulo \"optimize\" de la librería \"scipy\". Esta funcción nos permite minimizar el resultado de una función objetivo creada previamente, optimizando el input de dicha función, en nuestro caso queremos maximizar el ratio de sharpe optimizando los pesos del portafolio. Sin embargo, la libería scipy no tiene una función \"maximize\" por lo que para problemas de maximización dedemos minimizar el número negativo, en este caso sería minimizar el ratio de sharpe negatio. Es por esto que la segunda función , \"max_sharpe\", retorna el ratio de sharpe negativo.\n",
    "\n",
    "Además de una función obejtivo para minimizar (maximizar en nuestro caso), la función \"minimize\" también nos pide restricciónes y límites al input de la función objetivo.\n",
    "\n",
    "A continuación se muestran todos los inputs necesarios para realizar la optimiación:"
   ]
  },
  {
   "cell_type": "code",
   "execution_count": 76,
   "metadata": {},
   "outputs": [],
   "source": [
    "# Optimization inpputs\n",
    "cons = {'type':'eq','fun':lambda x: np.sum(x) -1}\n",
    "bnds = tuple((0,1) for x in range(len(tickers)))\n",
    "weights = len(tickers) * [1./len(tickers)]"
   ]
  },
  {
   "cell_type": "markdown",
   "metadata": {},
   "source": [
    "La primera variable llamada \"cons\" es la restricción que obliga a que la suma de los pesos indivuales de las acciones sea 1, para esto se crea un diccionario donde el dato de tipo *string* \"type\", lo emparejamos al *string* \"eq\", con esto le indicamos a la función \"minimize\" que la restricción es una igualdad. Luego creamos la *string* \"fun\" y la emparejamos a una función que calcule la restricción, en nuestro caso como la restricción es simple basta con crear una función *lambda* que reciva la variable \"x\" y que calcule la suma de \"x\" y le reste 1. Con esto último inidicamos la restricción es que la suma del imput debe ser cero.\n",
    "\n",
    "La segunda variable llamada \"bnds\"  indica los límites del input, en nuestro caso los pesos individuales deben estar entre cero y uno, para esto creamos una variable de tipo tupla, donde indicamos los límites cero y uno y agregamos un *bucle for* para que este límite se considere en cada elemento del vector de pesos.\n",
    "\n",
    "Para poder entender bien las dos variables previamente creadas se necesita concimiento sobre en los tipos de estructuras de datos de python, lamentablemente explicar los diccionarios, tuplas y funciones *lambda*, crearía un nivel de complejidad se que escapa del objetivo de este documento, el cual ya es extenso por las explicaciones intermedias sobre python, finanzas y álgebra lineal. Por lo que es lo único putno que no será explicado con más detalle en este documento, y solo se esplica qué son y cuál es la lógica detrás de esas variables.\n",
    "\n",
    "Por último, recordemos que vamos a optmizar el input de la función \"max_sharpe\", el cual se llama \"weights\" y es una variable de tipo lista que continene pesos iniciales para cada activo, como se mencionó en parrafos anteriores, no importan los pesos que coloquemos en la varible \"weights\", solo importa que estos cumplan las restricciones que ya se han planteado antes. Si hacemos print a la variable \"weights\" se vemos que cumple con las restricciones necesarias."
   ]
  },
  {
   "cell_type": "code",
   "execution_count": 77,
   "metadata": {},
   "outputs": [
    {
     "name": "stdout",
     "output_type": "stream",
     "text": [
      "Initial weights\n",
      "[0.2, 0.2, 0.2, 0.2, 0.2]\n",
      "----\n",
      "Weights sum\n",
      "1.0\n"
     ]
    }
   ],
   "source": [
    "print('Initial weights')\n",
    "print(weights)\n",
    "print('----')\n",
    "print('Weights sum')\n",
    "print(np.sum(weights))"
   ]
  },
  {
   "cell_type": "markdown",
   "metadata": {},
   "source": [
    "Con las variables anteriores creadas se puede utilizar la función \"minimize\" de la siguiente forma para optimizar el portafolio:"
   ]
  },
  {
   "cell_type": "code",
   "execution_count": 78,
   "metadata": {},
   "outputs": [],
   "source": [
    "# Optimization\n",
    "opts = minimize(max_sharpe, weights, method='SLSQP', bounds=bnds, constraints=cons)"
   ]
  },
  {
   "cell_type": "markdown",
   "metadata": {},
   "source": [
    "Dentro de la función \"minimize\" se ven todas la variables creadas y la función obejtivo a minimizar (maximizar en nuestro caso); sin embargo, hay una entrada llamada \"method\" la cual no habíamos mencionado antes, la cual recive la *string* \"SLSQP. Esta entrada no es obligatoria, si no se introduce un método determinidado entonces scipy determenina el método más apropiado. Para este ejercicio desidimos indicar el método \"SLSQP\" (*Sequential Least Squares Programming*), lamentablemente la explicación del por qué utilizar este método en particular escapa de mis conocimientos, solo sé que para resolver esta optimización en particular se prefiere este método.\n",
    "\n",
    "Si hacemos un print de la optimización podremos ver lo siguiente:"
   ]
  },
  {
   "cell_type": "code",
   "execution_count": 79,
   "metadata": {},
   "outputs": [
    {
     "name": "stdout",
     "output_type": "stream",
     "text": [
      "     fun: -1.3439976390387638\n",
      "     jac: array([-6.46114349e-05,  1.69277191e-04, -3.19197774e-04,  3.09365585e-01,\n",
      "       -3.13073397e-05])\n",
      " message: 'Optimization terminated successfully'\n",
      "    nfev: 48\n",
      "     nit: 8\n",
      "    njev: 8\n",
      "  status: 0\n",
      " success: True\n",
      "       x: array([1.38836358e-01, 2.18337410e-01, 2.73221172e-02, 7.46473196e-17,\n",
      "       6.15504114e-01])\n"
     ]
    }
   ],
   "source": [
    "print(opts)"
   ]
  },
  {
   "cell_type": "markdown",
   "metadata": {},
   "source": [
    "Como se puede apreciar la optimizaxión nos devuelve varias métricas, pero la que nos importa es la \"x\", la cual nos entrega los pesos óptimos de nustro porafolio. Para recuperar solo la variable \"x\" podemos hacer lo siguiente:"
   ]
  },
  {
   "cell_type": "code",
   "execution_count": 80,
   "metadata": {},
   "outputs": [
    {
     "name": "stdout",
     "output_type": "stream",
     "text": [
      "[1.38836358e-01 2.18337410e-01 2.73221172e-02 7.46473196e-17\n",
      " 6.15504114e-01]\n"
     ]
    }
   ],
   "source": [
    "opts_w = opts.x\n",
    "print(opts_w)"
   ]
  },
  {
   "cell_type": "markdown",
   "metadata": {},
   "source": [
    "Para recuperar los pesos redondeados a tres decimales podemos usar la función \"round\" de numpy."
   ]
  },
  {
   "cell_type": "code",
   "execution_count": 81,
   "metadata": {},
   "outputs": [
    {
     "name": "stdout",
     "output_type": "stream",
     "text": [
      "[0.139 0.218 0.027 0.    0.616]\n"
     ]
    }
   ],
   "source": [
    "opts_w = np.round(opts.x,3)\n",
    "print(opts_w)"
   ]
  },
  {
   "cell_type": "markdown",
   "metadata": {},
   "source": [
    "Con los pesos obtimos podemos utilizar la función \"financials\" que creamos anteriormente para recuperar el retorno óptimo, la volatilidad óptima y el máximo ratio de sharpe."
   ]
  },
  {
   "cell_type": "code",
   "execution_count": 82,
   "metadata": {},
   "outputs": [],
   "source": [
    "# Optimization results\n",
    "op_weights = list(np.round(opts.x,3))\n",
    "op_ret = np.round(financials(op_weights)[0],3)\n",
    "op_std = np.round(financials(op_weights)[1],3)\n",
    "op_sharpe = np.round(financials(op_weights)[2],3)"
   ]
  },
  {
   "cell_type": "markdown",
   "metadata": {},
   "source": [
    "Finalmente, podemos imprimir en consola el resultado final de la optimización de la siguiente forma:"
   ]
  },
  {
   "cell_type": "code",
   "execution_count": 85,
   "metadata": {},
   "outputs": [
    {
     "name": "stdout",
     "output_type": "stream",
     "text": [
      "\n",
      "Portfolio optimization result\n",
      "Assets:  ['AAPL', 'TSLA', 'AMZN', 'FB', 'MSFT']\n",
      "Weights: [0.139, 0.218, 0.027, 0.0, 0.616]\n",
      "\n",
      "Optimal Return:      0.389\n",
      "Optimal volatility:  0.289\n",
      "Optimal Sharpe:      1.344\n"
     ]
    }
   ],
   "source": [
    "# Print results\n",
    "result = '\\nPortfolio optimization result\\n'\\\n",
    "        + 'Assets:  ' + str(tickers) + '\\n'\\\n",
    "        + 'Weights: ' + str(op_weights) + '\\n'\\\n",
    "        + '\\nOptimal Return:      ' + str(op_ret) + '\\n'\\\n",
    "        + 'Optimal volatility:  ' + str(op_std) + '\\n'\\\n",
    "        + 'Optimal Sharpe:      ' + str(op_sharpe)\n",
    "\n",
    "print(result)"
   ]
  },
  {
   "cell_type": "markdown",
   "metadata": {},
   "source": [
    "# Bonus"
   ]
  },
  {
   "cell_type": "markdown",
   "metadata": {},
   "source": [
    "**(Este apartado es un extra por lo que no se va a detallar código utilizado)**\n",
    "\n",
    "Como extra podemos realizar una simulación de montecarlo para simular distintos vectores de pesos para nuestro portafolio y calcular sus determinados retornos esperados, volatilidad, y compararlos con nuestro portafolio optimizado, si el ejercicio que realizamos es correcto entonces nuestro portafolio óptimo tendrá el mayor ratio de sharpe.\n",
    "\n",
    "El código para la simulación  y gráfico de las simulaciones es el siguiente:"
   ]
  },
  {
   "cell_type": "code",
   "execution_count": 103,
   "metadata": {},
   "outputs": [],
   "source": [
    "# Porfolio simularion\n",
    "def portfolios_simulations(data,assets,numb):\n",
    "    portf_ret = []\n",
    "    portf_std = []\n",
    "    portf_sharpe = []\n",
    "    weights = []\n",
    "    ret = data.mean().values\n",
    "    cov = data.cov()\n",
    "    df1 = pd.DataFrame(columns=assets)\n",
    "    for i in range(numb):\n",
    "        w = np.random.rand(len(assets))\n",
    "        w = w/w.sum()\n",
    "        alpha1 = np.dot(w.T,ret)*252\n",
    "        alpha2 = np.sqrt(np.dot(w.T,np.dot(cov,w))*252)\n",
    "        alpha3 = alpha1/alpha2\n",
    "        portf_ret.append(alpha1)\n",
    "        portf_std.append(alpha2)\n",
    "        portf_sharpe.append(alpha3)\n",
    "        weights.append(w)\n",
    "    df1 = pd.DataFrame(columns=assets, data=weights)\n",
    "    df2 = pd.DataFrame(columns=['Ret', 'Std', 'Sharpe'],)\n",
    "    df2['Ret'] = portf_ret\n",
    "    df2['Std'] = portf_std\n",
    "    df2['Sharpe'] = portf_sharpe\n",
    "    df = pd.concat([df1,df2],axis=1)\n",
    "    return df\n"
   ]
  },
  {
   "cell_type": "code",
   "execution_count": 106,
   "metadata": {},
   "outputs": [],
   "source": [
    "# Scaterplot of porfolios\n",
    "def plot_portfolios(port,sharpe,tickers):\n",
    "    opt_port = op_weights\n",
    "    x = port['Std'].values\n",
    "    y= port['Ret'].values\n",
    "    x_op = op_std\n",
    "    y_op = op_ret\n",
    "    plt.figure()\n",
    "    plt.scatter(x, y,c=y/x,cmap='RdYlGn')\n",
    "    plt.title('Portfolio optimization | ' + str(simul) + ' simulations')\n",
    "    plt.ylabel('|Annual returns|')\n",
    "    plt.xlabel(\n",
    "        '|Annual volatility|'\\\n",
    "            + '\\n'+ '---------------------------'\\\n",
    "                + '\\n' + 'Assets:  ' + str(tickers)\\\n",
    "                + '\\n' + 'Weights: ' + str(opt_port))\n",
    "    sns.set_theme()\n",
    "    plt.colorbar()\n",
    "    plt.scatter(x_op, y_op,color='purple')\n",
    "    plt.show()"
   ]
  },
  {
   "cell_type": "code",
   "execution_count": 107,
   "metadata": {},
   "outputs": [
    {
     "data": {
      "image/png": "[encoded data removed]",
      "text/plain": [
       "<Figure size 640x480 with 2 Axes>"
      ]
     },
     "metadata": {},
     "output_type": "display_data"
    }
   ],
   "source": [
    "simul = 1000000\n",
    "port = portfolios_simulations(log_ret,tickers,simul)\n",
    "max_sharpe = port[port['Sharpe'] == port['Sharpe'].max()]\n",
    "fig = plot_portfolios(port,max_sharpe,tickers)"
   ]
  },
  {
   "cell_type": "markdown",
   "metadata": {},
   "source": [
    "El gráfico anterior es un gráfico de formato (x,y) donde  se simularon 1 millón de distintas combinaciones para los pesos de los activos, los retornos anuales esperados son la variable dependiente (y) y la volatilidad anual de los portafolios simulados es la variables inpedependiete (y). La barra de color al costado derecho del gráfico el ratio de sharpe de cada portafolio, donde se aplica una escala de color rojo - amarillo - verde, pintandose de rojo los portafolios con menor ratio de sharpe, amarillo los portafolios con ratio de sharpe intermedio y de de verde los portafolios con mayor ratio de sharpe.\n",
    "\n",
    "Por otro lado, el punto morado representa el portafolio óptimo que calculamos anteriormente, y como se puede apreciar que este portafolio se ubica donde el color verde es más intenso, por lo que efectivamente es el portafolio con el mayor ratio de sharpe."
   ]
  }
 ],
 "metadata": {
  "interpreter": {
   "hash": "123c78458a976785da1ff6017056d955c4d5c8a33bee59f5ac6281e6fd153d7d"
  },
  "kernelspec": {
   "display_name": "Python 3.8.8 64-bit ('base': conda)",
   "name": "python3"
  },
  "language_info": {
   "codemirror_mode": {
    "name": "ipython",
    "version": 3
   },
   "file_extension": ".py",
   "mimetype": "text/x-python",
   "name": "python",
   "nbconvert_exporter": "python",
   "pygments_lexer": "ipython3",
   "version": "3.8.8"
  }
 },
 "nbformat": 4,
 "nbformat_minor": 2
}
