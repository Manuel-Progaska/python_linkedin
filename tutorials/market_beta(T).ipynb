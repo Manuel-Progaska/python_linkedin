{
 "cells": [
  {
   "cell_type": "markdown",
   "metadata": {},
   "source": [
    "El presente documento es un breve ejemplo de cómo calcular el beta de mercado de una acción, por medio de una regresión lineal por mínimos cuadrados ordinarios.\n",
    "\n",
    "Para el ejercicio se va utilizar la acción de *Microsoft* y como estimador de la cartera de mercado se utilizará al *S&P500*. Las librerías necesarias son: *Pandas, Numpy, Datetime, Matplotlib, Pandas Data Reader, Scipy y Dateutil*, las cuales se importan de la siguiente forma:"
   ]
  },
  {
   "cell_type": "code",
   "execution_count": 1,
   "metadata": {},
   "outputs": [],
   "source": [
    "# libraries\n",
    "import pandas as pd\n",
    "import numpy as np\n",
    "import datetime as dt\n",
    "import matplotlib.pyplot as plt\n",
    "from pandas_datareader import DataReader as wb\n",
    "from scipy.stats import linregress\n",
    "from dateutil.relativedelta import relativedelta"
   ]
  },
  {
   "cell_type": "markdown",
   "metadata": {},
   "source": [
    "# Obtener datos de mercado desde Yahoo Finance\n",
    "\n",
    "Los precios de cierre se obtienen desde *Yahoo Finance* utlizando la función *DataReader* de la librería *Pandas Data Reader*. En este caso descargaremos cinco años exactos desde la fecha de hoy, utilizando la función \"datetime.now()\" de la librería *Datetime* y la función \"relativedelta\" de la librería *Dateutil*.\n",
    "\n",
    "los *tickers* de *Microsoft* y del *S&P500* son *MSFT* y *^GSPC* respectivamente. La descarga de datos se hace de la siguiente forma:"
   ]
  },
  {
   "cell_type": "code",
   "execution_count": 2,
   "metadata": {},
   "outputs": [],
   "source": [
    "# Get market data\n",
    "start = dt.datetime.now() - relativedelta(years=5)\n",
    "end = dt.datetime.now()\n",
    "tickers = {'stock': 'MSFT', 'bench': '^GSPC'}\n",
    "stock = wb([tickers['stock']],'yahoo',start,end)['Close']\n",
    "bench = wb([tickers['bench']],'yahoo',start,end)['Close']"
   ]
  },
  {
   "cell_type": "markdown",
   "metadata": {},
   "source": [
    "Podemos imprimir los *dataframes* resultantes para ver cómo lucen:"
   ]
  },
  {
   "cell_type": "code",
   "execution_count": 3,
   "metadata": {},
   "outputs": [
    {
     "name": "stdout",
     "output_type": "stream",
     "text": [
      "Symbols          MSFT\n",
      "Date                 \n",
      "2016-10-19  57.529999\n",
      "2016-10-20  57.250000\n",
      "2016-10-21  59.660000\n",
      "2016-10-24  61.000000\n",
      "2016-10-25  60.990002\n",
      "2016-10-26  60.630001\n",
      "2016-10-27  60.099998\n",
      "---------------\n",
      "Symbols           ^GSPC\n",
      "Date                   \n",
      "2016-10-19  2144.290039\n",
      "2016-10-20  2141.340088\n",
      "2016-10-21  2141.159912\n",
      "2016-10-24  2151.330078\n",
      "2016-10-25  2143.159912\n",
      "2016-10-26  2139.429932\n",
      "2016-10-27  2133.040039\n"
     ]
    }
   ],
   "source": [
    "print(stock.head(7))\n",
    "print('---------------')\n",
    "print(bench.head(7))"
   ]
  },
  {
   "cell_type": "markdown",
   "metadata": {},
   "source": [
    "Cabe destacar que la información del *S&P500* no son precios, ya que este al ser un índice lo que descargamos son los puntos. Sin embargo, lo anterior no es un problema porque la regresión lineal es sobre los retornos del activo y de la cartera de mercado, por lo que las variaciones de los puntos diarios del *S&P500* pueden ser considerados (de hecho son) los retornos."
   ]
  },
  {
   "cell_type": "markdown",
   "metadata": {},
   "source": [
    "# Sincronizar series de tiempo\n",
    "\n",
    "Para poder hacer la regresión necesitamos que ambas series de tiempo (la acción y el benchmark) estén sincronizadas, ya que queremos comparar  para cada día los retornos respectivos de la acción y el benchmark. Esto se puede hacer de forma automática con *Pandas Data Reader*, solo basta con importar ambos activos simultaneamente para que la función nos retornne un único *dataframe* con los precios de cierre ya sincronizados. Sin embargo, no siempre se cuanta con la información losta para el análisis, por lo que para poder hacer un ejemplo más realista se descargaron los datos por seraparado, así se puede mostrar como hacer una \"limpieza previa\".\n",
    "\n",
    "Para sincronizar ambas series de tiempo se utilizó el siguiente método:"
   ]
  },
  {
   "cell_type": "code",
   "execution_count": 4,
   "metadata": {},
   "outputs": [
    {
     "name": "stdout",
     "output_type": "stream",
     "text": [
      "Symbols       Date      MSFT     ^GSPC\n",
      "0       2016-10-20 -0.004867 -0.001376\n",
      "1       2016-10-21  0.042096 -0.000084\n",
      "2       2016-10-24  0.022461  0.004750\n",
      "3       2016-10-25 -0.000164 -0.003798\n",
      "4       2016-10-26 -0.005903 -0.001740\n",
      "5       2016-10-27 -0.008742 -0.002987\n",
      "6       2016-10-28 -0.003827 -0.003108\n"
     ]
    }
   ],
   "source": [
    "def synsynchronize_returns(df1, df2):\n",
    "    col = list(df1.columns) + list(df2.columns)\n",
    "    df1 = df1.pct_change().dropna()\n",
    "    df2 = df2.pct_change().dropna()\n",
    "    #Synchronise timetamps\n",
    "    df1['Date'] = df1.index\n",
    "    df1 = df1.reset_index(drop=True)\n",
    "    df2['Date'] = df2.index\n",
    "    df2 = df2.reset_index(drop=True)\n",
    "    timestamps_1 = list(df1['Date'].values)\n",
    "    timestamps_2 = list(df2['Date'].values)\n",
    "    timetamps = list(set(timestamps_1) & set(timestamps_2))\n",
    "    #Synchronise timeseries for benchmark\n",
    "    df1_sync = df1[df1['Date'].isin(timetamps)]\n",
    "    df1_sync.sort_values(by = 'Date', ascending = True)\n",
    "    df1_sync = df1_sync.reset_index(drop = True)\n",
    "    #Synchronise timeseries for asset\n",
    "    df2_sync = df2[df2['Date'].isin(timetamps)]\n",
    "    df2_sync.sort_values(by = 'Date', ascending = True)\n",
    "    df2_sync = df2_sync.reset_index(drop = True)\n",
    "    #Table for security and benchmark\n",
    "    df = pd.merge(df1_sync,df2_sync, on='Date')\n",
    "    df = df[['Date'] + col]\n",
    "    return df\n",
    "\n",
    "df = synsynchronize_returns(stock,bench)\n",
    "print(df.head(7))"
   ]
  },
  {
   "cell_type": "markdown",
   "metadata": {},
   "source": [
    "Sin entrar en mucho detalle, lo que se hizo fue crear una función que recibe como inputs dos *dataframes*, a los cuales se les  calculan los retornos diarios, se les extraen las fechas diarias y se crea una varible llamada \"timetamps\", esta última es una lista que contine solo las fechas comunes que entre ambos *dataframes*. Posteriormente, se utiliza esta variable (timetamps) para crear dos nuevos dataframes que solo tienen los datos de las fechas comunes. Finalmente, la función retorna la combinanción de estos *dataframe* en un solo."
   ]
  },
  {
   "cell_type": "markdown",
   "metadata": {},
   "source": [
    "# Regresión lineal\n",
    "\n",
    "Para hacer la regresión lineal utilizamos la función \"lineregress\" de la librería *Scipy*, la cual nos pide una variable independiente \"x\" y una variable dependiente \"y\", en este caso los retornos del benchmark serán lo variable independiente y los retornos de la acción serán la variable dependiente. Lo anterior debido a que lo que buscamos ed explicar los retornos de *Microsoft* como una función de los retornos de la cartera de mercado (estimada con el *S6P500*).\n",
    "\n",
    "Acontinuación se muestra cómo hacer la regresión, cómo se recuperan los factores relevantes y cómo se pueden imprimir en consola los resultados:"
   ]
  },
  {
   "cell_type": "code",
   "execution_count": 5,
   "metadata": {},
   "outputs": [],
   "source": [
    "# Linear regression\n",
    "y = df[tickers['stock']].values\n",
    "x = df[tickers['bench']].values\n",
    "reg = linregress(x,y)\n",
    "beta = np.round(reg.slope,3)\n",
    "alpha = np.round(reg.intercept,3)\n",
    "r2 = np.round(reg.rvalue**2,3)\n",
    "pvalue = reg.pvalue\n",
    "null_hypoth = pvalue > 0.05"
   ]
  },
  {
   "cell_type": "code",
   "execution_count": 6,
   "metadata": {},
   "outputs": [
    {
     "name": "stdout",
     "output_type": "stream",
     "text": [
      "Linear Regression of MSFT versus ^GSPC\n",
      "Beta:     1.194\n",
      "Alpha:    0.001\n",
      "R^2:      0.694\n",
      "P-Value:  0.0\n",
      "Null Hypothesis is False\n"
     ]
    }
   ],
   "source": [
    "# Regresion result\n",
    "reg_result = 'Linear Regression of ' + str(tickers['stock']) + ' versus ' + str(tickers['bench'] + '\\n')\\\n",
    "        + 'Beta:     ' + str(beta) + '\\n'\\\n",
    "        + 'Alpha:    ' + str(alpha) + '\\n'\\\n",
    "        + 'R^2:      '  + str(r2) + '\\n'\\\n",
    "        + 'P-Value:  ' + str(pvalue) + '\\n'\\\n",
    "        + 'Null Hypothesis is ' + str(null_hypoth)\n",
    "\n",
    "print(reg_result)\n"
   ]
  },
  {
   "cell_type": "markdown",
   "metadata": {},
   "source": [
    "De lo anterior es relevante destacar dos indicadores. El primero es el *R Cuadrado*, el cual indica cuánto porcentaje de la varianza de los retornos de *Microsoft*, son explicados por los retornos de la cartera de mercado, en este caso es aproximadamente el 70%. El segundo indicador es la *Hipótesis Nula*, la cual se demuestra que es falsa por medio del *P - Value*, lo anterior siginifica que se puede afirmar con un 95% de confianza que el beta de la regresión es distinto a cero, por lo tanto, tiene relevancia estadística.\n",
    "\n",
    "Por útlimo podemos mostrar visualmente la relación la relación entre la cartera de mercado y la acción de *Microsoft* por medio de un *Scatter* y mostrar además en este gráfico los resultados de la regresión."
   ]
  },
  {
   "cell_type": "code",
   "execution_count": 7,
   "metadata": {},
   "outputs": [
    {
     "data": {
      "image/png": "[encoded data removed]",
      "text/plain": [
       "<Figure size 640x480 with 1 Axes>"
      ]
     },
     "metadata": {},
     "output_type": "display_data"
    }
   ],
   "source": [
    "# Plot Regression\n",
    "predictor = alpha + beta * x\n",
    "plt.figure()\n",
    "plt.title('Linear Regression | Sample: ' + str(len(x)))\n",
    "plt.scatter(x,y)\n",
    "plt.style.use('seaborn')\n",
    "plt.ylabel(tickers['stock'])\n",
    "plt.xlabel(\n",
    "    tickers['bench'] + '\\n' + '\\n'\\\n",
    "    + 'Beta: ' + str(beta) + '  |  Alpha: ' + str(alpha)\\\n",
    "    + ' |  R^2:  ' + str(r2) + '  |  Null Hypothesis: ' + str(null_hypoth)\n",
    ")\n",
    "plt.plot(x, predictor, color = 'red')\n",
    "plt.show()\n"
   ]
  }
 ],
 "metadata": {
  "interpreter": {
   "hash": "123c78458a976785da1ff6017056d955c4d5c8a33bee59f5ac6281e6fd153d7d"
  },
  "kernelspec": {
   "display_name": "Python 3.8.8 64-bit ('base': conda)",
   "name": "python3"
  },
  "language_info": {
   "codemirror_mode": {
    "name": "ipython",
    "version": 3
   },
   "file_extension": ".py",
   "mimetype": "text/x-python",
   "name": "python",
   "nbconvert_exporter": "python",
   "pygments_lexer": "ipython3",
   "version": "3.8.8"
  },
  "orig_nbformat": 4
 },
 "nbformat": 4,
 "nbformat_minor": 2
}
