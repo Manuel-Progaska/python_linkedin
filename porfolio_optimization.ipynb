{
 "cells": [
  {
   "cell_type": "markdown",
   "source": [
    "Para realizar la optimización debemos tener instaladas las librerías que aparecen abajo\n",
    "en el siguiente segmento de código. Si tienes python instalado con la distribución de anaconda\n",
    "entonces solo tendrás que installar la librería \"Pandas DataReader\", para esto puedes ir a la \n",
    "terminal y escribir: pip install pandas_datareader.\n",
    "\n",
    "Una vez tengas las librerias instaladas las importamos como se muestra acontinuación."
   ],
   "metadata": {}
  },
  {
   "cell_type": "code",
   "execution_count": 1,
   "source": [
    "import pandas as pd #to manipulaze databframes\n",
    "import numpy as np # to generate random weigths and linear algebra \n",
    "from pandas_datareader import DataReader as wb # to get stocks data from yahoo finance\n",
    "from scipy.optimize import minimize # to optimize sharpe-ratio\n",
    "import matplotlib.pyplot as plt # to plot our data\n",
    "import seaborn as sns # style of our plots"
   ],
   "outputs": [],
   "metadata": {}
  },
  {
   "cell_type": "markdown",
   "source": [
    "El primer paso es obtener la información desde Yahoo Finance, podríamos descargar uno a uno los datos\n",
    "de las acciones, luego en excel sincronizar las fechas y cargar el archivo modificado de nuevo a\n",
    "python. Sin embargo, el proceso de obtener y sincronizar los precios de las acciones se puede hacer\n",
    "de una forma mucho más facil utilizando la librería \"Pandas DataReader\", específicamente\n",
    "la función \"DataReader\" que cargamos inicialmente commo \"wb\". Con esto obtendremos los precios de\n",
    "cada acción en un solo data frame utilizando unas pocas líneas de código.\n",
    "\n",
    "Para cargar los precios desde Yahoo creamos una variable de tipo lista con los tickers de las acciones de Apple, Facebook, Amazon\n",
    "y Microsoft, además, creamos dos variables llamadas \"start\" y \"end\" donde colocamos las fechas de inicio y\n",
    "termino respectivamente como strings siguiendo el formato año-mes-día.\n",
    "\n",
    "Una vez establecidos los inputs necesarios, creamos una variable llamada \"df\", la igualmos a la  función DataReader\n",
    "abrebiada como \"wb\" y le pasamos los imputs. Primero se ponen los tickers, luego escribimos 'yahoo' (en minúscula)\n",
    "y por pultimo las fechas de inicio y termino, es importante hacerlo en este orden. Una vez cerramos la función le \n",
    "agregamos el atributo ['Adj Close'], esto le dice a la función que de toda la información que tiene Yahoo sobre\n",
    "las acciones, nos retorne solo los precios de cierre ajustados por dividendos, si quisieramos los precios sin ajuste\n",
    "debemos escrbir el atributo ['Close'].\n",
    "\n",
    "Esta funcicón nos devuelve un pandas data frame donde las columnas son los tickers de cada acción y el indice son las\n",
    "fechas de cada día, dentro del data frame tenemos los precios diarios de cada acción."
   ],
   "metadata": {}
  },
  {
   "cell_type": "code",
   "execution_count": 2,
   "source": [
    "# Define our stocks in the portfolio\n",
    "tickers = ['BAC','TSLA']\n",
    "# Get stock prices in Yahoo Finance\n",
    "start = '2019-1-1'\n",
    "end = '2021-1-1'\n",
    "df = wb(tickers,'yahoo', start, end)['Adj Close']"
   ],
   "outputs": [],
   "metadata": {}
  },
  {
   "cell_type": "markdown",
   "source": [
    "Si utilizamos la función \"print()\" y le pasamos el data frame, podremos ver en la consola los datos que obtuvimos de Yahoo"
   ],
   "metadata": {}
  },
  {
   "cell_type": "code",
   "execution_count": 3,
   "source": [
    "print(df)"
   ],
   "outputs": [
    {
     "output_type": "stream",
     "name": "stdout",
     "text": [
      "Symbols           BAC        TSLA\n",
      "Date                             \n",
      "2019-01-02  23.430696   62.023998\n",
      "2019-01-03  23.055204   60.071999\n",
      "2019-01-04  24.012709   63.537998\n",
      "2019-01-07  23.993933   66.991997\n",
      "2019-01-08  23.946999   67.070000\n",
      "...               ...         ...\n",
      "2020-12-24  29.535604  661.770020\n",
      "2020-12-28  29.703196  663.690002\n",
      "2020-12-29  29.584896  665.989990\n",
      "2020-12-30  29.555321  694.780029\n",
      "2020-12-31  29.880646  705.669983\n",
      "\n",
      "[505 rows x 2 columns]\n"
     ]
    }
   ],
   "metadata": {}
  },
  {
   "cell_type": "markdown",
   "source": [
    "Posteriormenta hay que obetener los retornos diarios de cada acción, en este ejercicio calcularemos\n",
    "retornos continuos los cuales son el logarítmon natural de la división entre el precio de cada día sobre el precio del\n",
    "día anterior. Para esto utilizamos la función de numpy \"log\" que nos permite obtener el logaritmo natural de\n",
    "lo que coloquemos dentro de esta, en este caso le pasamos el data frame (df) dividido por si mismo pero con la\n",
    "función \"shift(1)\" de pandas, con esto estamos dividiendo cada fila del data frame con la fila anterior."
   ],
   "metadata": {}
  },
  {
   "cell_type": "code",
   "execution_count": 4,
   "source": [
    "# Calculate continuous returns\n",
    "df = np.log(df/df.shift(1))"
   ],
   "outputs": [],
   "metadata": {}
  },
  {
   "cell_type": "markdown",
   "source": [
    "Hacemos un print para ver cómo cambiaron los datos"
   ],
   "metadata": {}
  },
  {
   "cell_type": "code",
   "execution_count": 5,
   "source": [
    "print(df)"
   ],
   "outputs": [
    {
     "output_type": "stream",
     "name": "stdout",
     "text": [
      "Symbols          BAC      TSLA\n",
      "Date                          \n",
      "2019-01-02       NaN       NaN\n",
      "2019-01-03 -0.016155 -0.031978\n",
      "2019-01-04  0.040692  0.056094\n",
      "2019-01-07 -0.000782  0.052935\n",
      "2019-01-08 -0.001958  0.001164\n",
      "...              ...       ...\n",
      "2020-12-24 -0.002999  0.024150\n",
      "2020-12-28  0.005658  0.002897\n",
      "2020-12-29 -0.003991  0.003459\n",
      "2020-12-30 -0.001000  0.042321\n",
      "2020-12-31  0.010947  0.015552\n",
      "\n",
      "[505 rows x 2 columns]\n"
     ]
    }
   ],
   "metadata": {}
  },
  {
   "cell_type": "markdown",
   "source": [
    "Se puede apreciar como ahora en el data frame dejamos de tener precios y ahora tenemos números decimales\n",
    "entre -1 y 1. Admemás, en la primera fila nos aparecen datos del tipo NaN, esto es porque anteriormente\n",
    "calculamos el logaritmo natural de cada precio con el precio del día anterior, obviamente la primera fila\n",
    "de precios no tenía precios anteriores con los que compararse por lo el resultado para la primera fila nos\n",
    "arroja datos tipo NaN.\n",
    "\n",
    "Para eliminar esta fila utilizamos la función de pandas \"dropna()\", la cual nos permite borrar del data frame\n",
    "las filas que contengan datos del tipo NaN. Además, agregamos inmediatamente un print para ver el data frame"
   ],
   "metadata": {}
  },
  {
   "cell_type": "code",
   "execution_count": 6,
   "source": [
    "df = df.dropna()\n",
    "print(df)"
   ],
   "outputs": [
    {
     "output_type": "stream",
     "name": "stdout",
     "text": [
      "Symbols          BAC      TSLA\n",
      "Date                          \n",
      "2019-01-03 -0.016155 -0.031978\n",
      "2019-01-04  0.040692  0.056094\n",
      "2019-01-07 -0.000782  0.052935\n",
      "2019-01-08 -0.001958  0.001164\n",
      "2019-01-09  0.009752  0.009438\n",
      "...              ...       ...\n",
      "2020-12-24 -0.002999  0.024150\n",
      "2020-12-28  0.005658  0.002897\n",
      "2020-12-29 -0.003991  0.003459\n",
      "2020-12-30 -0.001000  0.042321\n",
      "2020-12-31  0.010947  0.015552\n",
      "\n",
      "[504 rows x 2 columns]\n"
     ]
    }
   ],
   "metadata": {}
  },
  {
   "cell_type": "code",
   "execution_count": 13,
   "source": [
    "simulations = 1000000\n",
    "size = len(tickers)\n",
    "weights = np.zeros((simulations,size))"
   ],
   "outputs": [],
   "metadata": {}
  },
  {
   "cell_type": "code",
   "execution_count": 14,
   "source": [
    "for i in range(simulations):\n",
    "   w = np.random.rand(size)\n",
    "   weights[i] = w/w.sum()\n",
    "print(weights)"
   ],
   "outputs": [
    {
     "output_type": "stream",
     "name": "stdout",
     "text": [
      "[[0.42327819 0.57672181]\n",
      " [0.51564328 0.48435672]\n",
      " [0.80822599 0.19177401]\n",
      " ...\n",
      " [0.54471657 0.45528343]\n",
      " [0.30217577 0.69782423]\n",
      " [0.56897911 0.43102089]]\n"
     ]
    }
   ],
   "metadata": {}
  },
  {
   "cell_type": "code",
   "execution_count": 15,
   "source": [
    "# Monte-Carlo simulation\n",
    "ret = df.mean().values*252\n",
    "cov = df.cov().values*252\n",
    "mtx = np.zeros((simulations,3))\n",
    "rf = 0.025\n",
    "for i in range(simulations):\n",
    "    mtx[i][0] = np.dot(weights[i],ret)\n",
    "    mtx[i][1] = np.sqrt(np.dot(weights[i],np.dot(cov,weights[i].T)))\n",
    "    mtx[i][2] = (mtx[i,0]-rf)/mtx[i,1]\n",
    "mtx"
   ],
   "outputs": [
    {
     "output_type": "execute_result",
     "data": {
      "text/plain": [
       "array([[0.75264897, 0.50853049, 1.43088564],\n",
       "       [0.65158021, 0.47486783, 1.31948339],\n",
       "       [0.3314271 , 0.42369489, 0.72322585],\n",
       "       ...,\n",
       "       [0.61976731, 0.46575237, 1.2770033 ],\n",
       "       [0.88516301, 0.56171267, 1.53132207],\n",
       "       [0.59321848, 0.45874433, 1.23863871]])"
      ]
     },
     "metadata": {},
     "execution_count": 15
    }
   ],
   "metadata": {}
  },
  {
   "cell_type": "code",
   "execution_count": 16,
   "source": [
    "portfolios = pd.DataFrame(\n",
    "    columns=tickers + ['Ret','Std','Sharpe'],\n",
    "    data = np.zeros((simulations,size+3))\n",
    ")\n",
    "for i in range(simulations):\n",
    "    portfolios.iloc[i,:size] = weights[i]\n",
    "    portfolios.iloc[i,size:] = mtx[i]\n",
    "print(portfolios)"
   ],
   "outputs": [
    {
     "output_type": "stream",
     "name": "stdout",
     "text": [
      "             BAC      TSLA       Ret       Std    Sharpe\n",
      "0       0.423278  0.576722  0.752649  0.508530  1.430886\n",
      "1       0.515643  0.484357  0.651580  0.474868  1.319483\n",
      "2       0.808226  0.191774  0.331427  0.423695  0.723226\n",
      "3       0.553858  0.446142  0.609764  0.463046  1.262863\n",
      "4       0.611714  0.388286  0.546457  0.447807  1.164466\n",
      "...          ...       ...       ...       ...       ...\n",
      "999995  0.272733  0.727267  0.917380  0.575913  1.549504\n",
      "999996  0.427794  0.572206  0.747708  0.506732  1.426212\n",
      "999997  0.544717  0.455283  0.619767  0.465752  1.277003\n",
      "999998  0.302176  0.697824  0.885163  0.561713  1.531322\n",
      "999999  0.568979  0.431021  0.593218  0.458744  1.238639\n",
      "\n",
      "[1000000 rows x 5 columns]\n"
     ]
    }
   ],
   "metadata": {}
  },
  {
   "cell_type": "code",
   "execution_count": 17,
   "source": [
    "max_sharpe = portfolios['Sharpe'].max()\n",
    "optimal_portfolio = portfolios[portfolios['Sharpe'] == max_sharpe]\n",
    "print(optimal_portfolio)"
   ],
   "outputs": [
    {
     "output_type": "stream",
     "name": "stdout",
     "text": [
      "             BAC      TSLA       Ret       Std    Sharpe\n",
      "776971  0.000005  0.999995  1.215807  0.724158  1.644404\n"
     ]
    }
   ],
   "metadata": {}
  },
  {
   "cell_type": "code",
   "execution_count": 18,
   "source": [
    "x1 = portfolios['Std'].values\n",
    "y1 = portfolios['Ret'].values\n",
    "x2 = optimal_portfolio['Std'].values\n",
    "y2 = optimal_portfolio['Ret'].values\n",
    "\n",
    "plt.figure(figsize=(10,5))\n",
    "plt.scatter(x1,y1,c=y1/x1)\n",
    "plt.scatter(x2,y2,color = 'red')\n",
    "plt.colorbar()\n",
    "plt.show()"
   ],
   "outputs": [
    {
     "output_type": "display_data",
     "data": {
      "image/png": "[encoded data removed]",
      "text/plain": [
       "<Figure size 1000x500 with 2 Axes>"
      ]
     },
     "metadata": {}
    }
   ],
   "metadata": {}
  }
 ],
 "metadata": {
  "orig_nbformat": 4,
  "language_info": {
   "name": "python",
   "version": "3.8.8",
   "mimetype": "text/x-python",
   "codemirror_mode": {
    "name": "ipython",
    "version": 3
   },
   "pygments_lexer": "ipython3",
   "nbconvert_exporter": "python",
   "file_extension": ".py"
  },
  "kernelspec": {
   "name": "python3",
   "display_name": "Python 3.8.8 64-bit ('base': conda)"
  },
  "interpreter": {
   "hash": "64d57843f20f7c6ce835448c96acaae5214ccd85fc570cee54ffb7ca20428e4b"
  }
 },
 "nbformat": 4,
 "nbformat_minor": 2
}