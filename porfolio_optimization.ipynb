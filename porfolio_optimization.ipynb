{
 "cells": [
  {
   "cell_type": "markdown",
   "source": [
    "Para realizar la optimización debemos tener instaladas las librerías que aparecen abajo\n",
    "en el siguiente segmento de código. Si tienes python instalado con la distribución de anaconda\n",
    "entonces solo tendrás que installar la librería \"Pandas DataReader\", para esto puedes ir a la \n",
    "terminal y escribir: pip install pandas_datareader.\n",
    "\n",
    "Una vez tengas las librerias instaladas las importamos como se muestra acontinuación."
   ],
   "metadata": {}
  },
  {
   "cell_type": "code",
   "execution_count": 2,
   "source": [
    "import pandas as pd #to manipulaze databframes\n",
    "import numpy as np # to generate random weigths and linear algebra \n",
    "from pandas_datareader import DataReader as wb # to get stocks data from yahoo finance\n",
    "from scipy.optimize import minimize # to optimize sharpe-ratio\n",
    "import matplotlib.pyplot as plt # to plot our data\n",
    "import seaborn as sns # style of our plots"
   ],
   "outputs": [],
   "metadata": {}
  },
  {
   "cell_type": "markdown",
   "source": [
    "El primer paso es obtener la información desde Yahoo Finance, podríamos descargar uno a uno los datos\n",
    "de las acciones, luego en excel sincronizar las fechas y cargar el archivo modificado de nuevo a\n",
    "python. Sin embargo, el proceso de obtener y sincronizar los precios de las acciones se puede hacer\n",
    "de una forma mucho más facil utilizando la librería \"Pandas DataReader\", específicamente\n",
    "la función \"DataReader\" que cargamos inicialmente commo \"wb\". Con esto obtendremos los precios de\n",
    "cada acción en un solo data frame utilizando unas pocas líneas de código.\n",
    "\n",
    "Para cargar los precios desde Yahoo creamos una variable de tipo lista con los tickers de las acciones de Apple, Facebook, Amazon\n",
    "y Microsoft, además, creamos dos variables llamadas \"start\" y \"end\" donde colocamos las fechas de inicio y\n",
    "termino respectivamente como strings siguiendo el formato año-mes-día.\n",
    "\n",
    "Una vez establecidos los inputs necesarios, creamos una variable llamada \"df\", la igualmos a la  función DataReader\n",
    "abrebiada como \"wb\" y le pasamos los imputs. Primero se ponen los tickers, luego escribimos 'yahoo' (en minúscula)\n",
    "y por pultimo las fechas de inicio y termino, es importante hacerlo en este orden. Una vez cerramos la función le \n",
    "agregamos el atributo ['Adj Close'], esto le dice a la función que de toda la información que tiene Yahoo sobre\n",
    "las acciones, nos retorne solo los precios de cierre ajustados por dividendos, si quisieramos los precios sin ajuste\n",
    "debemos escrbir el atributo ['Close'].\n",
    "\n",
    "Esta funcicón nos devuelve un pandas data frame donde las columnas son los tickers de cada acción y el indice son las\n",
    "fechas de cada día, dentro del data frame tenemos los precios diarios de cada acción."
   ],
   "metadata": {}
  },
  {
   "cell_type": "code",
   "execution_count": 3,
   "source": [
    "# Define our stocks in the portfolio\n",
    "tickers = ['AAPL', 'FB', 'AMZN', 'MSFT']\n",
    "# Get stock prices in Yahoo Finance\n",
    "start = '2019-1-1'\n",
    "end = '2021-1-1'\n",
    "df = wb(tickers,'yahoo', start, end)['Adj Close']"
   ],
   "outputs": [],
   "metadata": {}
  },
  {
   "cell_type": "markdown",
   "source": [
    "Si utilizamos la función \"print()\" y le pasamos el data frame, podremos ver en la consola los datos que obtuvimos de Yahoo"
   ],
   "metadata": {}
  },
  {
   "cell_type": "code",
   "execution_count": 4,
   "source": [
    "print(df)"
   ],
   "outputs": [
    {
     "output_type": "stream",
     "name": "stdout",
     "text": [
      "Symbols           AAPL          FB         AMZN        MSFT\n",
      "Date                                                       \n",
      "2019-01-02   38.382229  135.679993  1539.130005   97.961319\n",
      "2019-01-03   34.559078  131.740005  1500.280029   94.357529\n",
      "2019-01-04   36.034370  137.949997  1575.390015   98.746010\n",
      "2019-01-07   35.954170  138.050003  1629.510010   98.871956\n",
      "2019-01-08   36.639565  142.529999  1656.579956   99.588829\n",
      "...                ...         ...          ...         ...\n",
      "2020-12-24  131.352829  267.399994  3172.689941  221.302490\n",
      "2020-12-28  136.050766  277.000000  3283.959961  223.498138\n",
      "2020-12-29  134.239273  276.779999  3322.000000  222.693390\n",
      "2020-12-30  133.094650  271.869995  3285.850098  220.239456\n",
      "2020-12-31  132.069473  273.160004  3256.929932  220.974640\n",
      "\n",
      "[505 rows x 4 columns]\n"
     ]
    }
   ],
   "metadata": {}
  },
  {
   "cell_type": "markdown",
   "source": [
    "Posteriormenta hay que obetener los retornos diarios de cada acción, en este ejercicio calcularemos\n",
    "retornos continuos los cuales son el logarítmon natural de la división entre el precio de cada día sobre el precio del\n",
    "día anterior. Para esto utilizamos la función de numpy \"log\" que nos permite obtener el logaritmo natural de\n",
    "lo que coloquemos dentro de esta, en este caso le pasamos el data frame (df) dividido por si mismo pero con la\n",
    "función \"shift(1)\" de pandas, con esto estamos dividiendo cada fila del data frame con la fila anterior."
   ],
   "metadata": {}
  },
  {
   "cell_type": "code",
   "execution_count": 5,
   "source": [
    "# Calculate continuous returns\n",
    "df = np.log(df/df.shift(1))"
   ],
   "outputs": [],
   "metadata": {}
  },
  {
   "cell_type": "markdown",
   "source": [
    "Hacemos un print para ver cómo cambiaron los datos"
   ],
   "metadata": {}
  },
  {
   "cell_type": "code",
   "execution_count": 6,
   "source": [
    "print(df)"
   ],
   "outputs": [
    {
     "output_type": "stream",
     "name": "stdout",
     "text": [
      "Symbols         AAPL        FB      AMZN      MSFT\n",
      "Date                                              \n",
      "2019-01-02       NaN       NaN       NaN       NaN\n",
      "2019-01-03 -0.104924 -0.029469 -0.025566 -0.037482\n",
      "2019-01-04  0.041803  0.046061  0.048851  0.045460\n",
      "2019-01-07 -0.002228  0.000725  0.033776  0.001275\n",
      "2019-01-08  0.018884  0.031937  0.016476  0.007224\n",
      "...              ...       ...       ...       ...\n",
      "2020-12-24  0.007683 -0.002652 -0.003957  0.007797\n",
      "2020-12-28  0.035141  0.035272  0.034470  0.009873\n",
      "2020-12-29 -0.013404 -0.000795  0.011517 -0.003607\n",
      "2020-12-30 -0.008563 -0.017899 -0.010942 -0.011081\n",
      "2020-12-31 -0.007732  0.004734 -0.008840  0.003333\n",
      "\n",
      "[505 rows x 4 columns]\n"
     ]
    }
   ],
   "metadata": {}
  },
  {
   "cell_type": "markdown",
   "source": [
    "Se puede apreciar como ahora en el data frame dejamos de tener precios y ahora tenemos números decimales\n",
    "entre -1 y 1. Admemás, en la primera fila nos aparecen datos del tipo NaN, esto es porque anteriormente\n",
    "cañculamos el logaritmo natural de cada precio con el precio del día anterior, obviamente la primera fila\n",
    "de precios no tenía precios anteriores por lo el resultado para la primera fila nos arroja datos tipo Nan.\n",
    "\n",
    "Para eliminar esta fila utilizamos la función de pandas \"dropna()\", la cual nos permite borrar del data frame\n",
    "las filas que contengan datos del tipo NaN. Además, agregamos inmediatamente un print para ver el data frame"
   ],
   "metadata": {}
  },
  {
   "cell_type": "code",
   "execution_count": 7,
   "source": [
    "df = df.dropna()\n",
    "print(df)"
   ],
   "outputs": [
    {
     "output_type": "stream",
     "name": "stdout",
     "text": [
      "Symbols         AAPL        FB      AMZN      MSFT\n",
      "Date                                              \n",
      "2019-01-03 -0.104924 -0.029469 -0.025566 -0.037482\n",
      "2019-01-04  0.041803  0.046061  0.048851  0.045460\n",
      "2019-01-07 -0.002228  0.000725  0.033776  0.001275\n",
      "2019-01-08  0.018884  0.031937  0.016476  0.007224\n",
      "2019-01-09  0.016839  0.011857  0.001713  0.014198\n",
      "...              ...       ...       ...       ...\n",
      "2020-12-24  0.007683 -0.002652 -0.003957  0.007797\n",
      "2020-12-28  0.035141  0.035272  0.034470  0.009873\n",
      "2020-12-29 -0.013404 -0.000795  0.011517 -0.003607\n",
      "2020-12-30 -0.008563 -0.017899 -0.010942 -0.011081\n",
      "2020-12-31 -0.007732  0.004734 -0.008840  0.003333\n",
      "\n",
      "[504 rows x 4 columns]\n"
     ]
    }
   ],
   "metadata": {}
  }
 ],
 "metadata": {
  "orig_nbformat": 4,
  "language_info": {
   "name": "python",
   "version": "3.8.8",
   "mimetype": "text/x-python",
   "codemirror_mode": {
    "name": "ipython",
    "version": 3
   },
   "pygments_lexer": "ipython3",
   "nbconvert_exporter": "python",
   "file_extension": ".py"
  },
  "kernelspec": {
   "name": "python3",
   "display_name": "Python 3.8.8 64-bit ('base': conda)"
  },
  "interpreter": {
   "hash": "64d57843f20f7c6ce835448c96acaae5214ccd85fc570cee54ffb7ca20428e4b"
  }
 },
 "nbformat": 4,
 "nbformat_minor": 2
}